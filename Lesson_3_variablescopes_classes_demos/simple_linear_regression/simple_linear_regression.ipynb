{
 "cells": [
  {
   "cell_type": "code",
   "execution_count": 1,
   "metadata": {},
   "outputs": [
    {
     "name": "stdout",
     "output_type": "stream",
     "text": [
      "How many exam have you taken? \n",
      "5\n",
      "Could you enter your 1. exam score: 10\n",
      "[10.]\n",
      "Could you enter your 2. exam score: 15\n",
      "[10. 15.]\n",
      "Could you enter your 3. exam score: 19\n",
      "[10. 15. 19.]\n",
      "Could you enter your 4. exam score: 25\n",
      "[10. 15. 19. 25.]\n",
      "Could you enter your 5. exam score: 31\n",
      "[10. 15. 19. 25. 31.]\n",
      "6. Exam's predicted result is: [35.6]\n"
     ]
    },
    {
     "data": {
      "text/plain": [
       "<Figure size 640x480 with 1 Axes>"
      ]
     },
     "metadata": {},
     "output_type": "display_data"
    }
   ],
   "source": [
    "import matplotlib.pyplot as plt\n",
    "import numpy as np\n",
    "from sklearn.linear_model import LinearRegression\n",
    "\n",
    "course_results = np.array([])\n",
    "\n",
    "exam_amount = int(input(\"How many exam have you taken? \\n\"))\n",
    "course_exam_amount = np.arange(exam_amount)\n",
    "for eachloop in range(exam_amount):\n",
    "    score_of_exam = int( input(\"Could you enter your \"+str(eachloop+1)+ \". exam score: \") )\n",
    "    course_results = np.append(course_results,score_of_exam )\n",
    "    print(course_results)\n",
    "    \n",
    "    \n",
    "#course_results = np.array([20,19,20,22,18,25,26,23,29,28,31,32,32,34])\n",
    "#exam_amount = np.array([1,2,3,4,5,6,7,8,9,10,11,12,13,14])\n",
    "\n",
    "X = course_exam_amount.reshape(-1, 1)  # convert result x to 1 column array\n",
    "Y = course_results.reshape(-1, 1)  # -1 means that calculate the dimension of rows, but have 1 column\n",
    "\n",
    "linear_regressor = LinearRegression()  # Call object\n",
    "linear_regressor.fit(X, Y)  # Run lilnear regression to given value\n",
    "Y_pred = linear_regressor.predict(X)  # make prediction\n",
    "Y_next = linear_regressor.predict(np.array([exam_amount]).reshape(-1,1))\n",
    "print(str(exam_amount+1)+\". Exam's predicted result is: \"+ str(Y_next[0]))\n",
    "\n",
    "plt.scatter(X, Y)\n",
    "plt.plot(X, Y_pred, color='red')\n",
    "plt.show()"
   ]
  },
  {
   "cell_type": "code",
   "execution_count": null,
   "metadata": {},
   "outputs": [],
   "source": []
  }
 ],
 "metadata": {
  "kernelspec": {
   "display_name": "Python 3",
   "language": "python",
   "name": "python3"
  },
  "language_info": {
   "codemirror_mode": {
    "name": "ipython",
    "version": 3
   },
   "file_extension": ".py",
   "mimetype": "text/x-python",
   "name": "python",
   "nbconvert_exporter": "python",
   "pygments_lexer": "ipython3",
   "version": "3.7.1"
  }
 },
 "nbformat": 4,
 "nbformat_minor": 2
}
